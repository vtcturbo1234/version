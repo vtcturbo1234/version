{
 "cells": [
  {
   "cell_type": "code",
   "execution_count": null,
   "metadata": {},
   "outputs": [],
   "source": [
    "name = \"hello\"\n",
    "num = 2.3\n",
    "num1 = 3.5\n",
    "print(name , num1 , num)"
   ]
  },
  {
   "cell_type": "markdown",
   "metadata": {},
   "source": [
    "# Data Types: examples\n"
   ]
  },
  {
   "cell_type": "code",
   "execution_count": null,
   "metadata": {},
   "outputs": [],
   "source": [
    "#list\n",
    "\n",
    "List1 = [1, 2, \"Hello World\", \" Helsinki\", 5]\n",
    "print(type(List1))\n",
    "#create a variable called name and assign your name on it \n",
    "#check the data type\n",
    "name = \"Mohammed\"\n",
    "print(type(name))"
   ]
  },
  {
   "cell_type": "code",
   "execution_count": null,
   "metadata": {},
   "outputs": [],
   "source": [
    "num1 = 5\n",
    "num2 = 55\n",
    "result = num1 + num2\n",
    "print(result)"
   ]
  },
  {
   "cell_type": "code",
   "execution_count": null,
   "metadata": {},
   "outputs": [],
   "source": [
    "#Boolean\n",
    "\n",
    "name = \"Pekka Smith\"\n",
    "print(name)\n",
    "#isalnum() to check if its alpha nueical value\n",
    "name.isalnum()\n",
    "#islower() to check if its lower case\n",
    "name.islower()\n",
    "#isalpha() to check if its a string\n",
    "name.isalpha()\n",
    "name = \"Hello World\"\n",
    "print(name)\n",
    "\n",
    "\n",
    "# T & F = F\n",
    "# T & T = T \n",
    "\n",
    "# T | F = T\n",
    "# F | T = T\n"
   ]
  },
  {
   "cell_type": "code",
   "execution_count": null,
   "metadata": {},
   "outputs": [],
   "source": [
    "#None\n"
   ]
  },
  {
   "cell_type": "code",
   "execution_count": null,
   "metadata": {},
   "outputs": [],
   "source": [
    "print(\"this is string\")\n",
    "mystring = \"Hello World\"\n",
    "print (mystring)\n",
    "#String contains a sequence of characters,\n",
    "# it is possible to access individual characters\n",
    "print (mystring[0]) #prints the first character\n",
    "print (mystring[0:3]) #prints the first three characters \n",
    "print (mystring[2:4]) #prints the third and 4th character\n",
    "print (mystring[2:]) #prints third character onward\n",
    "print (mystring * 2) #prints two times, repitition\n",
    "print (mystring + \" & Mohammed\") #adds my string to deepak kc"
   ]
  },
  {
   "cell_type": "code",
   "execution_count": null,
   "metadata": {},
   "outputs": [],
   "source": []
  }
 ],
 "metadata": {
  "kernelspec": {
   "display_name": "Python 3",
   "language": "python",
   "name": "python3"
  },
  "language_info": {
   "codemirror_mode": {
    "name": "ipython",
    "version": 3
   },
   "file_extension": ".py",
   "mimetype": "text/x-python",
   "name": "python",
   "nbconvert_exporter": "python",
   "pygments_lexer": "ipython3",
   "version": "3.12.0"
  },
  "orig_nbformat": 4
 },
 "nbformat": 4,
 "nbformat_minor": 2
}
